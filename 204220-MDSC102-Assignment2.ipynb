{
 "cells": [
  {
   "cell_type": "markdown",
   "id": "4872668a",
   "metadata": {},
   "source": [
    "#importing the numpy library from python as np"
   ]
  },
  {
   "cell_type": "code",
   "execution_count": 1,
   "id": "e8be79d8",
   "metadata": {},
   "outputs": [
    {
     "data": {
      "text/plain": [
       "array([100, 102, 103, 309])"
      ]
     },
     "execution_count": 1,
     "metadata": {},
     "output_type": "execute_result"
    }
   ],
   "source": [
    "#importing the numpy library from python as np\n",
    "import numpy as np\n",
    "\n",
    "a= np.array([100,102,103,309])\n",
    "a"
   ]
  },
  {
   "cell_type": "markdown",
   "id": "1a6e164f",
   "metadata": {},
   "source": [
    "#returning the elements of the tuple"
   ]
  },
  {
   "cell_type": "code",
   "execution_count": 27,
   "id": "1949868f",
   "metadata": {},
   "outputs": [
    {
     "name": "stdout",
     "output_type": "stream",
     "text": [
      "(4,)\n"
     ]
    }
   ],
   "source": [
    "#returning the number of elements \n",
    "print(a.shape)\n"
   ]
  },
  {
   "cell_type": "markdown",
   "id": "ca7b5701",
   "metadata": {},
   "source": [
    "1 dimensional array"
   ]
  },
  {
   "cell_type": "code",
   "execution_count": 7,
   "id": "7ef41e1b",
   "metadata": {},
   "outputs": [
    {
     "name": "stdout",
     "output_type": "stream",
     "text": [
      "[1 2 4]\n"
     ]
    }
   ],
   "source": [
    "#1 dim array\n",
    "arr = np.array([1,2,4])\n",
    "print(arr)"
   ]
  },
  {
   "cell_type": "markdown",
   "id": "1fe53ecc",
   "metadata": {},
   "source": [
    "2 dimensional array"
   ]
  },
  {
   "cell_type": "code",
   "execution_count": 28,
   "id": "dd39c79e",
   "metadata": {},
   "outputs": [
    {
     "name": "stdout",
     "output_type": "stream",
     "text": [
      "[[ 1  2  3]\n",
      " [ 4 10  6]\n",
      " [ 7  8  9]]\n"
     ]
    },
    {
     "data": {
      "text/plain": [
       "(3, 3)"
      ]
     },
     "execution_count": 28,
     "metadata": {},
     "output_type": "execute_result"
    }
   ],
   "source": [
    "b= np.array(\n",
    "    [[1,2,3],\n",
    "    [4,5,6],\n",
    "    [7,8,9]]\n",
    ")\n",
    "\n",
    "#indexing the multidimensional aray\n",
    "b[1,1]= 10\n",
    "\n",
    "print(b)\n",
    "\n",
    "# to show the dimension of the array\n",
    "b.ndim\n",
    "\n",
    "b.shape"
   ]
  },
  {
   "cell_type": "markdown",
   "id": "01a2d92f",
   "metadata": {},
   "source": [
    "3 dimensional array"
   ]
  },
  {
   "cell_type": "code",
   "execution_count": 29,
   "id": "3531b535",
   "metadata": {},
   "outputs": [
    {
     "name": "stdout",
     "output_type": "stream",
     "text": [
      "[[[ 1  2  3]\n",
      "  [ 1  2  3]\n",
      "  [ 1  2  3]]\n",
      "\n",
      " [[ 1  2  3]\n",
      "  [ 1  2  3]\n",
      "  [ 1  2  3]]\n",
      "\n",
      " [[ 1  2  3]\n",
      "  [ 1  2  3]\n",
      "  [ 1  2 10]]]\n"
     ]
    },
    {
     "data": {
      "text/plain": [
       "(3, 3, 3)"
      ]
     },
     "execution_count": 29,
     "metadata": {},
     "output_type": "execute_result"
    }
   ],
   "source": [
    "#3 dimensional array\n",
    "\n",
    "c= np.array([\n",
    "    [\n",
    "        [1,2,3,],\n",
    "        [1,2,3],\n",
    "        [1,2,3]\n",
    "    ],\n",
    "    [\n",
    "        [1,2,3],\n",
    "        [1,2,3],\n",
    "        [1,2,3]\n",
    "    ],\n",
    "    [\n",
    "        [1,2,3],\n",
    "        [1,2,3],\n",
    "        [1,2,3]\n",
    "    ]\n",
    "])\n",
    "c.ndim\n",
    "\n",
    "c[2,2,2] = 10\n",
    "print(c)\n",
    "\n",
    "np.empty((2,3,1))\n",
    "\n",
    "c.shape\n"
   ]
  },
  {
   "cell_type": "markdown",
   "id": "61cc761c",
   "metadata": {},
   "source": [
    "complex data type"
   ]
  },
  {
   "cell_type": "code",
   "execution_count": 31,
   "id": "bc35d654",
   "metadata": {},
   "outputs": [
    {
     "data": {
      "text/plain": [
       "array([ 0.+0.j,  4.+0.j, -4.+0.j])"
      ]
     },
     "execution_count": 31,
     "metadata": {},
     "output_type": "execute_result"
    }
   ],
   "source": [
    "np.array([0,4,-4], dtype=complex)"
   ]
  },
  {
   "cell_type": "code",
   "execution_count": 30,
   "id": "d7438aae",
   "metadata": {},
   "outputs": [
    {
     "name": "stdout",
     "output_type": "stream",
     "text": [
      "4\n",
      "[[[[10  3  4  5]]]]\n"
     ]
    }
   ],
   "source": [
    "\n",
    "arr = np.array([[[[1,3,4,5]]]])\n",
    "\n",
    "print(arr.ndim)\n",
    "\n",
    "arr[0,0,0,0] = 10\n",
    "\n",
    "print(arr)"
   ]
  },
  {
   "cell_type": "code",
   "execution_count": 33,
   "id": "1072dd34",
   "metadata": {},
   "outputs": [
    {
     "data": {
      "text/plain": [
       "array([[[1.12746729e-311, 7.65801751e-322, 0.00000000e+000,\n",
       "         0.00000000e+000],\n",
       "        [1.89146896e-307, 1.16095484e-028, 1.96088859e+243,\n",
       "         9.44416446e-096],\n",
       "        [1.12958007e+277, 2.21211602e+214, 1.96099265e+243,\n",
       "         9.16526748e+242]],\n",
       "\n",
       "       [[1.21362457e+132, 1.00854119e+141, 4.11083805e+223,\n",
       "         9.15279752e+242],\n",
       "        [9.24080564e+135, 9.48149670e-076, 8.70781396e-153,\n",
       "         4.11083811e+223],\n",
       "        [9.15279752e+242, 8.93168689e+271, 4.98131536e+151,\n",
       "         1.94920670e-153]]])"
      ]
     },
     "execution_count": 33,
     "metadata": {},
     "output_type": "execute_result"
    }
   ],
   "source": [
    "#creating the random array\n",
    "\n",
    "np.empty((2,3,4))"
   ]
  },
  {
   "cell_type": "code",
   "execution_count": 39,
   "id": "ae2340e2",
   "metadata": {},
   "outputs": [
    {
     "data": {
      "text/plain": [
       "array([[1., 1.],\n",
       "       [1., 1.]])"
      ]
     },
     "execution_count": 39,
     "metadata": {},
     "output_type": "execute_result"
    }
   ],
   "source": [
    "#creating empty matrix\n",
    "\n",
    "# with 0\n",
    "\n",
    "\n",
    "y = np.zeros((2,2))\n",
    "y\n",
    "\n",
    "# with 1\n",
    "\n",
    "y = np.ones_like(y)\n",
    "y"
   ]
  },
  {
   "cell_type": "code",
   "execution_count": 40,
   "id": "1bbc9023",
   "metadata": {},
   "outputs": [
    {
     "data": {
      "text/plain": [
       "[0, 1, 2, 3, 4, 5, 6]"
      ]
     },
     "execution_count": 40,
     "metadata": {},
     "output_type": "execute_result"
    }
   ],
   "source": [
    "list(range(7))"
   ]
  },
  {
   "cell_type": "code",
   "execution_count": 7,
   "id": "657849dd",
   "metadata": {},
   "outputs": [
    {
     "data": {
      "text/plain": [
       "array([0., 1., 2., 3., 4.])"
      ]
     },
     "execution_count": 7,
     "metadata": {},
     "output_type": "execute_result"
    }
   ],
   "source": [
    "#linespace\n",
    "#(Start,stop,Evenspaced)\n",
    "x = np.linspace(1,5,5)\n",
    "x-1"
   ]
  },
  {
   "cell_type": "markdown",
   "id": "b280b264",
   "metadata": {},
   "source": [
    "Martix addition\n",
    "Element wise nuktioication"
   ]
  },
  {
   "cell_type": "code",
   "execution_count": 17,
   "id": "e3796744",
   "metadata": {},
   "outputs": [
    {
     "data": {
      "text/plain": [
       "array([[ 2,  6],\n",
       "       [12, 20]])"
      ]
     },
     "execution_count": 17,
     "metadata": {},
     "output_type": "execute_result"
    }
   ],
   "source": [
    "a= np.array(((1,2),(3,4)))\n",
    "b=a+1\n",
    "a\n",
    "b\n",
    "a+b\n",
    "a*b"
   ]
  },
  {
   "cell_type": "markdown",
   "id": "b9d26aa0",
   "metadata": {},
   "source": [
    " Matrix multiplication"
   ]
  },
  {
   "cell_type": "code",
   "execution_count": 18,
   "id": "b811c8eb",
   "metadata": {},
   "outputs": [
    {
     "data": {
      "text/plain": [
       "array([[ 5, 11],\n",
       "       [11, 25]])"
      ]
     },
     "execution_count": 18,
     "metadata": {},
     "output_type": "execute_result"
    }
   ],
   "source": [
    "b=a.T\n",
    "np.matmul(a,b)"
   ]
  }
 ],
 "metadata": {
  "kernelspec": {
   "display_name": "Python 3.11.1 64-bit",
   "language": "python",
   "name": "python3"
  },
  "language_info": {
   "codemirror_mode": {
    "name": "ipython",
    "version": 3
   },
   "file_extension": ".py",
   "mimetype": "text/x-python",
   "name": "python",
   "nbconvert_exporter": "python",
   "pygments_lexer": "ipython3",
   "version": "3.11.1"
  },
  "vscode": {
   "interpreter": {
    "hash": "98ef964bfd4ed9d19620907ac9c84a2d4c94fe13041991e678b1251a572e7e4d"
   }
  }
 },
 "nbformat": 4,
 "nbformat_minor": 5
}
